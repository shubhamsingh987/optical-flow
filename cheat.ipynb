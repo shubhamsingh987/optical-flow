{
 "cells": [
  {
   "cell_type": "code",
   "execution_count": 9,
   "metadata": {},
   "outputs": [],
   "source": [
    "import face_recognition\n",
    "import cv2\n",
    "import numpy as np\n",
    "import wget\n",
    "video_capture = cv2.VideoCapture(0)\n",
    "\n",
    "fgbg = cv2.createBackgroundSubtractorMOG2(300, 400, True)\n",
    "font = cv2.FONT_HERSHEY_SIMPLEX\n",
    "\n",
    "frameCount = 0\n",
    "\n",
    "shubham_image = face_recognition.load_image_file(wget.download(\"https://i.imgur.com/a1HmdVp.jpg\"))\n",
    "shubham_face_encoding = face_recognition.face_encodings(shubham_image)[0]\n",
    "\n",
    "\n",
    "known_face_encodings = [\n",
    "    shubham_face_encoding,\n",
    "]\n",
    "known_face_names = [\n",
    "    \"Shubham \", \n",
    "]\n",
    "\n",
    "face_locations = []\n",
    "face_encodings = []\n",
    "face_names = []\n",
    "process_this_frame = True\n",
    "\n",
    "while True:\n",
    "    ret, frame = video_capture.read()\n",
    "    prvs = cv2.cvtColor(frame,cv2.COLOR_BGR2GRAY)\n",
    "    hsv = np.zeros_like(frame)\n",
    "    hsv[...,1] = 255\n",
    "    small_frame = cv2.resize(frame, (0, 0), fx=0.25, fy=0.25)\n",
    "    rgb_small_frame = small_frame[:, :, ::-1]\n",
    "\n",
    "    if process_this_frame:\n",
    "        face_locations = face_recognition.face_locations(rgb_small_frame)\n",
    "        face_encodings = face_recognition.face_encodings(rgb_small_frame, face_locations)\n",
    "\n",
    "        face_names = []\n",
    "        found=0\n",
    "        for face_encoding in face_encodings:\n",
    "            found=1\n",
    "            matches = face_recognition.compare_faces(known_face_encodings, face_encoding)\n",
    "            name = \"Unknown\"\n",
    "            face_distances = face_recognition.face_distance(known_face_encodings, face_encoding)\n",
    "            best_match_index = np.argmin(face_distances)\n",
    "            if matches[best_match_index]:\n",
    "                name = known_face_names[best_match_index]\n",
    "            face_names.append(name)\n",
    "    process_this_frame = not process_this_frame\n",
    "\n",
    "    for (top, right, bottom, left), name in zip(face_locations, face_names):\n",
    "        cv2.putText(frame, name, (left*4+6,top*4), font, 1, (0, 0, 255), 2, cv2.LINE_AA)\n",
    "    frameCount += 1   \n",
    "    resizedFrame = cv2.resize(frame, (0, 0), fx=0.50, fy=0.50) \n",
    "    fgmask = fgbg.apply(resizedFrame) \n",
    "    count = np.count_nonzero(fgmask)  \n",
    "    if (frameCount > 10 and count > 2700):\n",
    "        cv2.putText(resizedFrame, name+' cheating', (10, 50), font, 1, (0, 0, 255), 2, cv2.LINE_AA)\n",
    "        count=0\n",
    "    cv2.imshow('Frame', resizedFrame) # actual footage\n",
    "    #cv2.imshow('Mask', fgmask)     # pixel changes\n",
    "    if cv2.waitKey(1) & 0xFF == 27:\n",
    "        break\n",
    "\n",
    "video_capture.release()\n",
    "cv2.destroyAllWindows()\n"
   ]
  },
  {
   "cell_type": "code",
   "execution_count": 8,
   "metadata": {},
   "outputs": [
    {
     "data": {
      "text/plain": [
       "113"
      ]
     },
     "execution_count": 8,
     "metadata": {},
     "output_type": "execute_result"
    }
   ],
   "source": [
    "ord('q')"
   ]
  }
 ],
 "metadata": {
  "kernelspec": {
   "display_name": "Python 3",
   "language": "python",
   "name": "python3"
  },
  "language_info": {
   "codemirror_mode": {
    "name": "ipython",
    "version": 3
   },
   "file_extension": ".py",
   "mimetype": "text/x-python",
   "name": "python",
   "nbconvert_exporter": "python",
   "pygments_lexer": "ipython3",
   "version": "3.7.6"
  }
 },
 "nbformat": 4,
 "nbformat_minor": 4
}
